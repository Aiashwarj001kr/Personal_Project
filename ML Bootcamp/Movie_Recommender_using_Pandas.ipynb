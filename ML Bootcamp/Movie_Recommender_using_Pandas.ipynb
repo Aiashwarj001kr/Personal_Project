{
 "cells": [
  {
   "cell_type": "code",
   "execution_count": 2,
   "metadata": {},
   "outputs": [
    {
     "name": "stdout",
     "output_type": "stream",
     "text": [
      "Enter Movie Title: Titanic (1997)\n",
      "\n",
      "Top 5 movies related to  Titanic (1997)\n"
     ]
    },
    {
     "data": {
      "text/html": [
       "<div>\n",
       "<style scoped>\n",
       "    .dataframe tbody tr th:only-of-type {\n",
       "        vertical-align: middle;\n",
       "    }\n",
       "\n",
       "    .dataframe tbody tr th {\n",
       "        vertical-align: top;\n",
       "    }\n",
       "\n",
       "    .dataframe thead th {\n",
       "        text-align: right;\n",
       "    }\n",
       "</style>\n",
       "<table border=\"1\" class=\"dataframe\">\n",
       "  <thead>\n",
       "    <tr style=\"text-align: right;\">\n",
       "      <th></th>\n",
       "      <th>Correlation</th>\n",
       "      <th>No.of ratings</th>\n",
       "    </tr>\n",
       "    <tr>\n",
       "      <th>Movie_Title</th>\n",
       "      <th></th>\n",
       "      <th></th>\n",
       "    </tr>\n",
       "  </thead>\n",
       "  <tbody>\n",
       "    <tr>\n",
       "      <th>Titanic (1997)</th>\n",
       "      <td>1.000000</td>\n",
       "      <td>350</td>\n",
       "    </tr>\n",
       "    <tr>\n",
       "      <th>River Wild, The (1994)</th>\n",
       "      <td>0.497600</td>\n",
       "      <td>146</td>\n",
       "    </tr>\n",
       "    <tr>\n",
       "      <th>Abyss, The (1989)</th>\n",
       "      <td>0.472103</td>\n",
       "      <td>151</td>\n",
       "    </tr>\n",
       "    <tr>\n",
       "      <th>Bram Stoker's Dracula (1992)</th>\n",
       "      <td>0.443560</td>\n",
       "      <td>120</td>\n",
       "    </tr>\n",
       "    <tr>\n",
       "      <th>True Lies (1994)</th>\n",
       "      <td>0.435104</td>\n",
       "      <td>208</td>\n",
       "    </tr>\n",
       "  </tbody>\n",
       "</table>\n",
       "</div>"
      ],
      "text/plain": [
       "                              Correlation  No.of ratings\n",
       "Movie_Title                                             \n",
       "Titanic (1997)                   1.000000            350\n",
       "River Wild, The (1994)           0.497600            146\n",
       "Abyss, The (1989)                0.472103            151\n",
       "Bram Stoker's Dracula (1992)     0.443560            120\n",
       "True Lies (1994)                 0.435104            208"
      ]
     },
     "execution_count": 2,
     "metadata": {},
     "output_type": "execute_result"
    }
   ],
   "source": [
    "#importing necessary library\n",
    "import pandas as panda\n",
    "import warnings\n",
    "\n",
    "warnings.filterwarnings('ignore')\n",
    "\n",
    "#reading datasets\n",
    "movie = panda.read_csv('u.item',sep=\"\\|\",header=None,encoding=\"ISO-8859-1\")\n",
    "movie = movie[[0,1]]\n",
    "movie.columns = ['item_id','Movie_Title']\n",
    "datas = panda.read_csv('u.data', sep=\"\\t\", names=['user_id', 'item_id', 'rating', 'timestamp'])\n",
    "\n",
    "#merges datasets\n",
    "datas = panda.merge(datas,movie,on=\"item_id\")\n",
    "\n",
    "#data table for rating\n",
    "Movie_ratings=panda.DataFrame(datas.groupby('Movie_Title').mean()['rating'])\n",
    "Movie_ratings['No.of ratings']=panda.DataFrame(datas.groupby('Movie_Title').count()['rating'])\n",
    "Movie_ratings.head()\n",
    "\n",
    "movie_matrics = datas.pivot_table(index=\"user_id\",columns=\"Movie_Title\",values=\"rating\")\n",
    "\n",
    "#defining function to predict movie\n",
    "def predict_movies(movie_name):\n",
    "    viewer_ratings = movie_matrics[movie_name]\n",
    "    similar_movie = movie_matrics.corrwith(viewer_ratings)\n",
    "    movie_pred = panda.DataFrame(similar_movie,columns=['Correlation'])\n",
    "    movie_pred.dropna(inplace=True)\n",
    "    movie_pred = movie_pred.join(Movie_ratings['No.of ratings'])\n",
    "    \n",
    "    return movie_pred[movie_pred['No.of ratings']>100].sort_values('Correlation',ascending=False)\n",
    "\n",
    "movie_name = input(\"Enter Movie Title: \")\n",
    "predict = predict_movies(movie_name)\n",
    "print(\"\\nTop 5 movies related to \",movie_name)\n",
    "predict.head()"
   ]
  },
  {
   "cell_type": "code",
   "execution_count": null,
   "metadata": {},
   "outputs": [],
   "source": []
  }
 ],
 "metadata": {
  "kernelspec": {
   "display_name": "Python 3",
   "language": "python",
   "name": "python3"
  },
  "language_info": {
   "codemirror_mode": {
    "name": "ipython",
    "version": 3
   },
   "file_extension": ".py",
   "mimetype": "text/x-python",
   "name": "python",
   "nbconvert_exporter": "python",
   "pygments_lexer": "ipython3",
   "version": "3.9.1"
  }
 },
 "nbformat": 4,
 "nbformat_minor": 4
}
